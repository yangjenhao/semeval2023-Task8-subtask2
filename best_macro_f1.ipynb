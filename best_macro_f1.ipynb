{
 "cells": [
  {
   "cell_type": "code",
   "execution_count": 66,
   "metadata": {},
   "outputs": [],
   "source": [
    "# -*- encoding: utf-8 -*-\n",
    "\"\"\"\n",
    "@File   :   best_epochs_score.ipynb\n",
    "@Desc   :   score\n",
    "\"\"\"\n",
    "import pandas as pd"
   ]
  },
  {
   "cell_type": "code",
   "execution_count": 67,
   "metadata": {},
   "outputs": [],
   "source": [
    "def find_bestmacro(path1, path2, path3, path4 , path5):\n",
    "    Macor_f1_score = []\n",
    "    maxmacrof1 = 0\n",
    "    maxmacrof1_index = 0\n",
    "    for epochs in range(1, 21):\n",
    "        index_epochs = epochs*2 - 1\n",
    "        df1 = pd.read_csv(path1)\n",
    "        Macor_f1_score.append(df1.loc[index_epochs]['Macor-f1_score'])\n",
    "        df2 = pd.read_csv(path2)\n",
    "        Macor_f1_score.append(df2.loc[index_epochs]['Macor-f1_score'])\n",
    "        df3 = pd.read_csv(path3)\n",
    "        Macor_f1_score.append(df3.loc[index_epochs]['Macor-f1_score'])\n",
    "        df4 = pd.read_csv(path4)\n",
    "        Macor_f1_score.append(df4.loc[index_epochs]['Macor-f1_score'])\n",
    "        df5 = pd.read_csv(path5)\n",
    "        Macor_f1_score.append(df5.loc[index_epochs]['Macor-f1_score'])\n",
    "        macrof1_avage = round(sum(Macor_f1_score)/5, 2)\n",
    "        maxmacrof1 = max(maxmacrof1, macrof1_avage)\n",
    "        if macrof1_avage >= maxmacrof1:\n",
    "            maxmacrof1_index = epochs\n",
    "        Macor_f1_score = []\n",
    "    maxmacrof1_epochs = maxmacrof1_index\n",
    "    return maxmacrof1_epochs"
   ]
  },
  {
   "cell_type": "code",
   "execution_count": 68,
   "metadata": {},
   "outputs": [],
   "source": [
    "# ###########! Score finished ###########\n",
    "Macor_precision, Macor_recall, Macor_f1_score = [], [], []\n",
    "def score_macrobest(maxmacrof1_epochs, path1, path2, path3, path4, path5):\n",
    "    index_epochs = maxmacrof1_epochs * 2 - 1\n",
    "    df1 = pd.read_csv(path1)\n",
    "    Macor_precision.append(df1.loc[index_epochs]['Macor-precision'])\n",
    "    Macor_recall.append(df1.loc[index_epochs]['Macor-recall'])\n",
    "    Macor_f1_score.append(df1.loc[index_epochs]['Macor-f1_score'])\n",
    "    \n",
    "    df2 = pd.read_csv(path2)\n",
    "    Macor_precision.append(df2.loc[index_epochs]['Macor-precision'])\n",
    "    Macor_recall.append(df2.loc[index_epochs]['Macor-recall'])\n",
    "    Macor_f1_score.append(df2.loc[index_epochs]['Macor-f1_score'])\n",
    "    \n",
    "    df3 = pd.read_csv(path3)\n",
    "    Macor_precision.append(df3.loc[index_epochs]['Macor-precision'])\n",
    "    Macor_recall.append(df3.loc[index_epochs]['Macor-recall'])\n",
    "    Macor_f1_score.append(df3.loc[index_epochs]['Macor-f1_score'])\n",
    "    \n",
    "    df4 = pd.read_csv(path4)\n",
    "    Macor_precision.append(df4.loc[index_epochs]['Macor-precision'])\n",
    "    Macor_recall.append(df4.loc[index_epochs]['Macor-recall'])\n",
    "    Macor_f1_score.append(df4.loc[index_epochs]['Macor-f1_score'])\n",
    "    \n",
    "    df5 = pd.read_csv(path5)\n",
    "    Macor_precision.append(df5.loc[index_epochs]['Macor-precision'])\n",
    "    Macor_recall.append(df5.loc[index_epochs]['Macor-recall'])\n",
    "    Macor_f1_score.append(df5.loc[index_epochs]['Macor-f1_score'])\n",
    "    print('Macor_precision = ', round(sum(Macor_precision)/len(Macor_precision), 2))\n",
    "    print('Macor_recall = ', round(sum(Macor_recall)/len(Macor_recall), 2))\n",
    "    print('Macor_f1_score = ', round(sum(Macor_f1_score)/len(Macor_f1_score), 2))\n",
    "    macro = [round(i, 2) for i in Macor_f1_score]\n",
    "    print('Macor_score = ', macro)"
   ]
  },
  {
   "cell_type": "code",
   "execution_count": 69,
   "metadata": {},
   "outputs": [
    {
     "name": "stdout",
     "output_type": "stream",
     "text": [
      "model_name =  #debertav14e-5\n",
      "best epochs =  12\n",
      "Macor_precision =  43.47\n",
      "Macor_recall =  32.6\n",
      "Macor_f1_score =  36.17\n",
      "Macor_score =  [35.03, 31.68, 37.52, 34.54, 42.08]\n",
      "===================================================\n"
     ]
    }
   ],
   "source": [
    "###########? 要設定資料位置的地方 ###########\n",
    "epochs = 0\n",
    "model_name = '#debertav14e-5'\n",
    "\n",
    "\n",
    "path1 = '#2paper_model/'+ str(model_name) + '/Fold1/training_progress_scores.csv'\n",
    "path2 = '#2paper_model/'+ str(model_name) + '/Fold2/training_progress_scores.csv'\n",
    "path3 = '#2paper_model/'+ str(model_name) + '/Fold3/training_progress_scores.csv'\n",
    "path4 = '#2paper_model/'+ str(model_name) + '/Fold4/training_progress_scores.csv'\n",
    "path5 = '#2paper_model/'+ str(model_name) + '/Fold5/training_progress_scores.csv'\n",
    "maxmacrof1_epochs = find_bestmacro(path1, path2, path3, path4 , path5)\n",
    "print('model_name = ', model_name)\n",
    "print('best epochs = ', maxmacrof1_epochs)\n",
    "score_macrobest(maxmacrof1_epochs, path1, path2, path3, path4, path5)\n",
    "print('===================================================')"
   ]
  }
 ],
 "metadata": {
  "kernelspec": {
   "display_name": "simple",
   "language": "python",
   "name": "python3"
  },
  "language_info": {
   "codemirror_mode": {
    "name": "ipython",
    "version": 3
   },
   "file_extension": ".py",
   "mimetype": "text/x-python",
   "name": "python",
   "nbconvert_exporter": "python",
   "pygments_lexer": "ipython3",
   "version": "3.7.13 (default, Oct 18 2022, 18:57:03) \n[GCC 11.2.0]"
  },
  "orig_nbformat": 4,
  "vscode": {
   "interpreter": {
    "hash": "c62108d4285adb72a277ccdf22167a9168951a4bf4c8bee60230a732f43cc685"
   }
  }
 },
 "nbformat": 4,
 "nbformat_minor": 2
}
